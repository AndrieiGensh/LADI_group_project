{
  "nbformat": 4,
  "nbformat_minor": 0,
  "metadata": {
    "colab": {
      "name": "LAdI_Bruno_Dzikowski_pascal_triangle.ipynb",
      "provenance": [],
      "collapsed_sections": []
    },
    "kernelspec": {
      "name": "python3",
      "display_name": "Python 3"
    }
  },
  "cells": [
    {
      "cell_type": "markdown",
      "metadata": {
        "id": "TZhja9bpe1fW"
      },
      "source": [
        "<h1>Using Pascal's triangle to expand binomial expressions and calculate binomial coefficients</h1>\r\n",
        "\r\n",
        "---\r\n",
        "\r\n",
        "\r\n",
        "by Bruno Dzikowski<br>\r\n",
        "Cracow University of Technology, January 2021"
      ]
    },
    {
      "cell_type": "markdown",
      "metadata": {
        "id": "dDQhFcdlgFJE"
      },
      "source": [
        "(1) Defining the basis for symbolic computation<br>\r\n",
        "Let us define the Basic class containing operator overloads for the symbolic computation library. Both the Symbol and Operator classes are going to inherit this class to enable basic arithmetic.<br>\r\n",
        "The overloaded operators are \"+\", \"-\", \"*\" and \"^\"."
      ]
    },
    {
      "cell_type": "code",
      "metadata": {
        "id": "sFz1RLAd3GT6"
      },
      "source": [
        "class Basic():\r\n",
        "    def __add__(self, other):\r\n",
        "        if other == 0:\r\n",
        "            return self\r\n",
        "        return Add(self, other)\r\n",
        "    def __radd__(self, other):\r\n",
        "        if other == 0:\r\n",
        "            return self\r\n",
        "        return Add(other, self)\r\n",
        "        \r\n",
        "    def __mul__(self, other):\r\n",
        "        if other == 1:\r\n",
        "            return self\r\n",
        "        return Mul(self, other)\r\n",
        "    def __rmul__(self, other):\r\n",
        "        if other == 1:\r\n",
        "            return self\r\n",
        "        return Mul(other, self)\r\n",
        "\r\n",
        "    def __sub__(self,other):\r\n",
        "        if other == 0:\r\n",
        "            return self\r\n",
        "        return Sub(self, other)\r\n",
        "    def __rsub__(self,other):\r\n",
        "        if other == 0:\r\n",
        "            return self\r\n",
        "        return Sub(other, self)\r\n",
        "\r\n",
        "    def __pow__(self,other):\r\n",
        "        if other == 0:\r\n",
        "            return 1\r\n",
        "        if other == 1:\r\n",
        "            return self\r\n",
        "        return Pow(self, other)\r\n",
        "    def __rpow__(self,other):\r\n",
        "        if other == 0:\r\n",
        "            return 1\r\n",
        "        if other == 1:\r\n",
        "            return self\r\n",
        "        return Pow(other, self)\r\n",
        "\r\n",
        "    def __neg__(self):\r\n",
        "        return Neg(self)"
      ],
      "execution_count": 69,
      "outputs": []
    },
    {
      "cell_type": "markdown",
      "metadata": {
        "id": "rBO9DtRKhG7k"
      },
      "source": [
        "(2) The Symbol and the Operator<br>\r\n",
        "The Symbol class is used to define algebraic variables such as \"x\".\r\n",
        "The Operator class represents a two-parameter function that applies some mathematical operation (such as addition or multiplication) on symbols and numbers. Each operator also has and assigned graphical symbol (i.e \"+\" for addition) so the resulting expression can be easily represented in a human-readable form.\r\n"
      ]
    },
    {
      "cell_type": "code",
      "metadata": {
        "id": "AIzwXgKj3TBr"
      },
      "source": [
        "class Symbol(Basic):\r\n",
        "    def __init__(self, name):\r\n",
        "        self.name = name\r\n",
        "    def __repr__(self):\r\n",
        "        return self.name\r\n",
        "\r\n",
        "class Operator(Basic):\r\n",
        "    def __init__(self, symbol, left, right, precedence):\r\n",
        "        self.symbol = symbol\r\n",
        "        self.left = left\r\n",
        "        self.right = right\r\n",
        "        self.precedence = precedence\r\n",
        "    def __repr__(self):\r\n",
        "        repr = ''\r\n",
        "        if isinstance(self.left, Operator) and self.left.precedence < self.precedence:\r\n",
        "            repr += '({0})'\r\n",
        "        else:\r\n",
        "            repr += '{0}'\r\n",
        "        repr += '{1}'\r\n",
        "        if isinstance(self.right, Operator) and self.right.precedence < self.precedence:\r\n",
        "            repr += '({2})'\r\n",
        "        else:\r\n",
        "            repr += '{2}'\r\n",
        "        repr = repr.format(self.left, self.symbol, self.right)\r\n",
        "        repr = repr.replace(\"+-\", \"-\")\r\n",
        "        repr = repr.replace(\"--\", \"+\")\r\n",
        "        return repr\r\n",
        "    def simplify(self):\r\n",
        "        return self"
      ],
      "execution_count": 70,
      "outputs": []
    },
    {
      "cell_type": "markdown",
      "metadata": {
        "id": "IMYHrQpjjubX"
      },
      "source": [
        "(3) Defining the operators<br>\r\n",
        "Now we define basic arithmetic operators: addition, multiplication, subtraction and exponentation. "
      ]
    },
    {
      "cell_type": "code",
      "metadata": {
        "id": "4PKPwl3e3ZXh"
      },
      "source": [
        "class Add(Operator):\r\n",
        "    def __init__(self, left, right):\r\n",
        "        self.left = left\r\n",
        "        self.right = right\r\n",
        "        Operator.__init__(self, '+', left, right, 0)\r\n",
        "\r\n",
        "class Mul(Operator):\r\n",
        "    def __init__(self, left, right):\r\n",
        "        self.left = left\r\n",
        "        self.right = right\r\n",
        "        Operator.__init__(self, '*', left, right, 1)\r\n",
        "\r\n",
        "class Sub(Operator):\r\n",
        "    def __init__(self, left, right):\r\n",
        "        self.left = left\r\n",
        "        self.right = right\r\n",
        "        Operator.__init__(self, '-', left, right, 0)\r\n",
        "\r\n",
        "class Pow(Operator):\r\n",
        "    def __init__(self, left, right):\r\n",
        "        self.left = left\r\n",
        "        self.right = right\r\n",
        "        Operator.__init__(self, '^', left, right, 2)"
      ],
      "execution_count": 71,
      "outputs": []
    },
    {
      "cell_type": "markdown",
      "metadata": {
        "id": "owh2Ohawnhcd"
      },
      "source": [
        "Now let us test the basic arithmetic by defining two symbols **x** and **y**, and then asigning the result of **x + y** in a variable called **a**:\r\n"
      ]
    },
    {
      "cell_type": "code",
      "metadata": {
        "colab": {
          "base_uri": "https://localhost:8080/"
        },
        "id": "ud7NZpWlnRR8",
        "outputId": "8d11f14d-e5b8-423c-ecc3-acf480a0554f"
      },
      "source": [
        "x = Symbol('x')\r\n",
        "y = Symbol('y')\r\n",
        "a = x + y\r\n",
        "print(a)"
      ],
      "execution_count": 72,
      "outputs": [
        {
          "output_type": "stream",
          "text": [
            "x+y\n"
          ],
          "name": "stdout"
        }
      ]
    },
    {
      "cell_type": "markdown",
      "metadata": {
        "id": "iu--lHLCoCtE"
      },
      "source": [
        "The variable **a** now holds the addition operator whose left side argument is the symbol **x** and right side argument is the symbol **y**. It's text representation \"x+y\" is then printed on the screen."
      ]
    },
    {
      "cell_type": "code",
      "metadata": {
        "colab": {
          "base_uri": "https://localhost:8080/"
        },
        "id": "f0MhAchvosAK",
        "outputId": "f06a1276-ebc8-4319-b6db-ab802bbb02f1"
      },
      "source": [
        "print((x+y)*2)\r\n",
        "print(x+y*2)"
      ],
      "execution_count": 73,
      "outputs": [
        {
          "output_type": "stream",
          "text": [
            "(x+y)*2\n",
            "x+y*2\n"
          ],
          "name": "stdout"
        }
      ]
    },
    {
      "cell_type": "markdown",
      "metadata": {
        "id": "2cqXnSzjqff1"
      },
      "source": [
        "Examples of mathematical operations."
      ]
    },
    {
      "cell_type": "markdown",
      "metadata": {
        "id": "-2dlBAdMqvP8"
      },
      "source": [
        "(4) Pascal's triangle<br>\r\n",
        "Pascal's triangle is a triangular array of binomial coefficients consisting of n rows where each row is only as long as the row's index. It has one unique nonzero entry at row 1 of length 1. Each entry is created by adding the number above it to the left to the number above it and to the right (Entries at indexes overlfowing the array size are treated as 0). Let us define a function that generates the Pascal's triangle consisting of the chosen number of rows:\r\n"
      ]
    },
    {
      "cell_type": "code",
      "metadata": {
        "id": "820Y8yCmqtib"
      },
      "source": [
        "def pascals_triangle(rows):\r\n",
        "    triangle = []\r\n",
        "    for i in range(rows):\r\n",
        "        row = []\r\n",
        "        for j in range(i+1):\r\n",
        "            if j == 0 or j == i:\r\n",
        "                row.append(1)\r\n",
        "            else:\r\n",
        "                row.append(triangle[i-1][j-1]+triangle[i-1][j])\r\n",
        "        triangle.append(row)\r\n",
        "    return triangle"
      ],
      "execution_count": 74,
      "outputs": []
    },
    {
      "cell_type": "markdown",
      "metadata": {
        "id": "0PJERe59ugPm"
      },
      "source": [
        "We can now generate a triangle of, for example, 5 rows:"
      ]
    },
    {
      "cell_type": "code",
      "metadata": {
        "colab": {
          "base_uri": "https://localhost:8080/"
        },
        "id": "RpCGyoX0unI1",
        "outputId": "c54d8ade-bbdf-4e1a-8d0a-0a8ccf9d36d7"
      },
      "source": [
        "print(pascals_triangle(5))"
      ],
      "execution_count": 75,
      "outputs": [
        {
          "output_type": "stream",
          "text": [
            "[[1], [1, 1], [1, 2, 1], [1, 3, 3, 1], [1, 4, 6, 4, 1]]\n"
          ],
          "name": "stdout"
        }
      ]
    },
    {
      "cell_type": "markdown",
      "metadata": {
        "id": "LokD3e3TvPx8"
      },
      "source": [
        "Let us also define the unary operator class, which in constrast to the previously defined binary operator takes only one argument. Then we can use that class to define the negation operator alowing us to use negative numbers in the future examples.\r\n"
      ]
    },
    {
      "cell_type": "code",
      "metadata": {
        "id": "GjyV_f-GvPBU"
      },
      "source": [
        "class Unary(Basic):\r\n",
        "    def __init__(self, symbol, operand, precedence):\r\n",
        "        self.symbol = symbol\r\n",
        "        self.operand = operand\r\n",
        "        self.precedence = precedence\r\n",
        "    def __repr__(self):\r\n",
        "        return '{0}{1}'.format(self.symbol, self.operand)\r\n",
        "\r\n",
        "class Neg(Unary):\r\n",
        "    def __init__(self, operand):\r\n",
        "        self.operand = operand\r\n",
        "        Unary.__init__(self, \"-\", operand, 0)"
      ],
      "execution_count": 76,
      "outputs": []
    },
    {
      "cell_type": "code",
      "metadata": {
        "colab": {
          "base_uri": "https://localhost:8080/"
        },
        "id": "5lEvgTqzvprF",
        "outputId": "9367c59d-4226-4d3e-a7e0-59a39df31e5e"
      },
      "source": [
        "print(-x)"
      ],
      "execution_count": 58,
      "outputs": [
        {
          "output_type": "stream",
          "text": [
            "-x\n"
          ],
          "name": "stdout"
        }
      ]
    },
    {
      "cell_type": "markdown",
      "metadata": {
        "id": "9KMrbnepxZM9"
      },
      "source": [
        "(5) Expanding binomial expressions<br>\r\n",
        "We can use the Pascal's triangle to expand binomial expressions (i.e (x+y)<sup>2</sup>). The following function first checks if the passed expression is a binomial, then generates Pascals triangle of size n, where n is equal to the exponent z in the expression (x+y)<sup>z</sup>. The coefficients are then extracted from the nth row of the Pascal's triangle and an expanded expression is returned."
      ]
    },
    {
      "cell_type": "code",
      "metadata": {
        "id": "wdKP9dtjvy3U"
      },
      "source": [
        "def expand_binomial(binomial):\r\n",
        "    if not isinstance(binomial, Pow):\r\n",
        "        raise Exception\r\n",
        "    if not (isinstance(binomial.left, Add) or isinstance(binomial.left, Sub)):\r\n",
        "        raise Exception\r\n",
        "    power = binomial.right\r\n",
        "    if type(power) is not int:\r\n",
        "        raise Exception\r\n",
        "\r\n",
        "    x = binomial.left.left\r\n",
        "    y = binomial.left.right\r\n",
        "    if (isinstance(binomial.left, Sub)):\r\n",
        "        y = -y\r\n",
        "\r\n",
        "    expaned = 0\r\n",
        "    t = pascal_traingle(power + 1)\r\n",
        "    row = t[power]\r\n",
        "    for i in range(len(row)):\r\n",
        "        expaned += row[i] * x**(len(row)-i-1) * y**i\r\n",
        "\r\n",
        "    return expaned\r\n"
      ],
      "execution_count": 77,
      "outputs": []
    },
    {
      "cell_type": "code",
      "metadata": {
        "colab": {
          "base_uri": "https://localhost:8080/"
        },
        "id": "n1d11dzkybCm",
        "outputId": "3163890c-b4e7-4325-fc54-e8fe28270386"
      },
      "source": [
        "e = expand_binomial((x+y)**2)\r\n",
        "print(e)"
      ],
      "execution_count": 78,
      "outputs": [
        {
          "output_type": "stream",
          "text": [
            "x^2+2*x*y+y^2\n"
          ],
          "name": "stdout"
        }
      ]
    },
    {
      "cell_type": "markdown",
      "metadata": {
        "id": "2lnGFSDyzj30"
      },
      "source": [
        "(6) Binomial coefficients<br>\r\n",
        "We can also use the Pascal's triangle to calculate binomial coefficients with the following simple function:"
      ]
    },
    {
      "cell_type": "code",
      "metadata": {
        "id": "oOH8dmVQzhYE"
      },
      "source": [
        "def binomial(n, b):\r\n",
        "    if b > n:\r\n",
        "        raise Exception\r\n",
        "    return pascal_traingle(n + 1)[n][b]"
      ],
      "execution_count": 79,
      "outputs": []
    },
    {
      "cell_type": "code",
      "metadata": {
        "colab": {
          "base_uri": "https://localhost:8080/"
        },
        "id": "Eru0RyyD1Han",
        "outputId": "a1c6fd11-2e03-42c4-df30-dfa744328b79"
      },
      "source": [
        "print(binomial(5, 2))"
      ],
      "execution_count": 80,
      "outputs": [
        {
          "output_type": "stream",
          "text": [
            "10\n"
          ],
          "name": "stdout"
        }
      ]
    },
    {
      "cell_type": "markdown",
      "metadata": {
        "id": "-EYCR7aa1uQX"
      },
      "source": [
        "The next thing that would need to be implemented in a symbolic computation library would be simplification using term rewriting. For example we can add a function called simplify that will convert the expression x(a+b+c) to the form x\\*a+x\\*b+x\\*c"
      ]
    },
    {
      "cell_type": "code",
      "metadata": {
        "id": "H0JVWPak0TRU"
      },
      "source": [
        "def simplify(term):\r\n",
        "    if not isinstance(term, Operator):\r\n",
        "        return term\r\n",
        "    if type(term) == Mul:\r\n",
        "        if type(term.right) == Add:\r\n",
        "            term = term.left*term.right.left + term.left*term.right.right\r\n",
        "        if type(term.left) == Add:\r\n",
        "            term = term.right*term.left.left + term.right*term.left.right\r\n",
        "    term.left = simplify(term.left)\r\n",
        "    term.right = simplify(term.right)\r\n",
        "    return term"
      ],
      "execution_count": 81,
      "outputs": []
    },
    {
      "cell_type": "code",
      "metadata": {
        "colab": {
          "base_uri": "https://localhost:8080/"
        },
        "id": "5sg0F_a90XMk",
        "outputId": "65befb53-1307-4653-b4e2-ba08a1cb91df"
      },
      "source": [
        "x = Symbol('x')\r\n",
        "y = Symbol('y')\r\n",
        "a = expand_binomial((x+y)**2)\r\n",
        "# = expand_binomial((a+y)**3)\r\n",
        "#s = simplify(2*a)\r\n",
        "b = 2*expand_binomial((x+y)**2)\r\n",
        "print(b)\r\n",
        "print(simplify(b))"
      ],
      "execution_count": 85,
      "outputs": [
        {
          "output_type": "stream",
          "text": [
            "2*(x^2+2*x*y+y^2)\n",
            "2*x^2+2*2*x*y+2*y^2\n"
          ],
          "name": "stdout"
        }
      ]
    }
  ]
}